{
  "nbformat": 4,
  "nbformat_minor": 0,
  "metadata": {
    "colab": {
      "provenance": [],
      "gpuType": "T4"
    },
    "kernelspec": {
      "name": "python3",
      "display_name": "Python 3"
    },
    "language_info": {
      "name": "python"
    },
    "accelerator": "GPU"
  },
  "cells": [
    {
      "cell_type": "markdown",
      "source": [
        "## Made by:\n",
        "# Bhavneek Singh\n",
        "# 2020EE10482\n",
        "## IIT Delhi"
      ],
      "metadata": {
        "id": "PgMQes2QZJZH"
      }
    },
    {
      "cell_type": "code",
      "execution_count": 1,
      "metadata": {
        "id": "3lzmhXIJOQFy"
      },
      "outputs": [],
      "source": [
        "!pip install -q -U torch torchvision torchaudio transformers accelerate optimum packaging ninja huggingface-hub hf_transfer langsmith langchain ctransformers[cuda] sentence-transformers chromadb"
      ]
    },
    {
      "cell_type": "code",
      "source": [
        "!wget https://chaabiv2.s3.ap-south-1.amazonaws.com/hiring/bigBasketProducts.csv"
      ],
      "metadata": {
        "colab": {
          "base_uri": "https://localhost:8080/"
        },
        "id": "TV6AnEi5PlAw",
        "outputId": "a9d5d8ed-b7e4-458a-8add-edda3339720d"
      },
      "execution_count": 2,
      "outputs": [
        {
          "output_type": "stream",
          "name": "stdout",
          "text": [
            "--2023-11-30 13:16:29--  https://chaabiv2.s3.ap-south-1.amazonaws.com/hiring/bigBasketProducts.csv\n",
            "Resolving chaabiv2.s3.ap-south-1.amazonaws.com (chaabiv2.s3.ap-south-1.amazonaws.com)... 16.12.40.58, 52.219.158.194, 52.219.160.18, ...\n",
            "Connecting to chaabiv2.s3.ap-south-1.amazonaws.com (chaabiv2.s3.ap-south-1.amazonaws.com)|16.12.40.58|:443... connected.\n",
            "HTTP request sent, awaiting response... 200 OK\n",
            "Length: 16739247 (16M) [text/csv]\n",
            "Saving to: ‘bigBasketProducts.csv.1’\n",
            "\n",
            "bigBasketProducts.c 100%[===================>]  15.96M  22.3MB/s    in 0.7s    \n",
            "\n",
            "2023-11-30 13:16:30 (22.3 MB/s) - ‘bigBasketProducts.csv.1’ saved [16739247/16739247]\n",
            "\n"
          ]
        }
      ]
    },
    {
      "cell_type": "code",
      "source": [
        "from langchain.llms import CTransformers\n",
        "from langchain.document_loaders.csv_loader import CSVLoader\n",
        "from langchain.embeddings.huggingface import HuggingFaceEmbeddings\n",
        "from langchain.text_splitter import CharacterTextSplitter\n",
        "from langchain.vectorstores import Chroma\n",
        "from langchain.llms import HuggingFacePipeline\n",
        "from langchain.prompts import PromptTemplate\n",
        "from langchain.embeddings.huggingface import HuggingFaceEmbeddings\n",
        "from langchain.chains import RetrievalQA"
      ],
      "metadata": {
        "id": "zFroaCN6O-sm"
      },
      "execution_count": 3,
      "outputs": []
    },
    {
      "cell_type": "code",
      "source": [
        "loader = CSVLoader(file_path=\"/content/bigBasketProducts.csv\")\n",
        "data = loader.load()\n",
        "\n",
        "text_splitter = CharacterTextSplitter(chunk_size=2100, chunk_overlap=100)\n",
        "data_chunks = text_splitter.split_documents(data)"
      ],
      "metadata": {
        "id": "CriFAU3DPq3u"
      },
      "execution_count": 4,
      "outputs": []
    },
    {
      "cell_type": "code",
      "source": [
        "print(len(data_chunks))\n",
        "data_chunks[0]"
      ],
      "metadata": {
        "colab": {
          "base_uri": "https://localhost:8080/"
        },
        "id": "uDFZnDz3a1M1",
        "outputId": "40eb1c12-0ac6-49ae-fc43-a2676a3d9fac"
      },
      "execution_count": 5,
      "outputs": [
        {
          "output_type": "stream",
          "name": "stdout",
          "text": [
            "27573\n"
          ]
        },
        {
          "output_type": "execute_result",
          "data": {
            "text/plain": [
              "Document(page_content='index: 1\\nproduct: Garlic Oil - Vegetarian Capsule 500 mg\\ncategory: Beauty & Hygiene\\nsub_category: Hair Care\\nbrand: Sri Sri Ayurveda\\nsale_price: 220\\nmarket_price: 220\\ntype: Hair Oil & Serum\\nrating: 4.1\\ndescription: This Product contains Garlic Oil that is known to help proper digestion, maintain proper cholesterol levels, support cardiovascular and also build immunity.  For Beauty tips, tricks & more visit https://bigbasket.blog/', metadata={'source': '/content/bigBasketProducts.csv', 'row': 0})"
            ]
          },
          "metadata": {},
          "execution_count": 5
        }
      ]
    },
    {
      "cell_type": "code",
      "source": [
        "!HF_HUB_ENABLE_HF_TRANSFER=1 huggingface-cli download TheBloke/Mistral-7B-Claude-Chat-GGUF mistral-7b-claude-chat.Q4_K_M.gguf"
      ],
      "metadata": {
        "colab": {
          "base_uri": "https://localhost:8080/"
        },
        "id": "kPY5MDe8Rvt6",
        "outputId": "4164ba34-dccd-4db8-aae3-6d5a7dbece20"
      },
      "execution_count": 6,
      "outputs": [
        {
          "output_type": "stream",
          "name": "stdout",
          "text": [
            "/root/.cache/huggingface/hub/models--TheBloke--Mistral-7B-Claude-Chat-GGUF/snapshots/11eef398811ac0c9b0b2431485a7025f03c723c7/mistral-7b-claude-chat.Q4_K_M.gguf\n"
          ]
        }
      ]
    },
    {
      "cell_type": "code",
      "source": [
        "config = {'max_new_tokens': 100, 'repetition_penalty': 1.1, 'temperature':0.3, 'gpu_layers':50, 'context_length':4096}\n",
        "llm = CTransformers(model='/root/.cache/huggingface/hub/models--TheBloke--Mistral-7B-Claude-Chat-GGUF/snapshots/11eef398811ac0c9b0b2431485a7025f03c723c7/mistral-7b-claude-chat.Q4_K_M.gguf'\n",
        "      , model_type='mistral', config=config)"
      ],
      "metadata": {
        "id": "Xw_5VubEP1v1"
      },
      "execution_count": 7,
      "outputs": []
    },
    {
      "cell_type": "code",
      "source": [
        "prompt_template = \"\"\"A chat between a curious user and an artificial intelligence assistant.\n",
        "The assistant gives helpful, detailed, and polite answers to the user's questions. Take help\n",
        "from the given context. Don't make up information, just say \"Sorry, I don't know\".\n",
        "Give short responses.\n",
        "CONTEXT: {context}\n",
        "USER: {question}\n",
        "ASSISTANT:\n",
        " \"\"\""
      ],
      "metadata": {
        "id": "ZCIZ3TaZP6KA"
      },
      "execution_count": 8,
      "outputs": []
    },
    {
      "cell_type": "code",
      "source": [
        "prompt = PromptTemplate(\n",
        "    input_variables=[\"context\", \"question\"],\n",
        "    template=prompt_template,\n",
        ")\n",
        "\n",
        "embeddings = HuggingFaceEmbeddings(model_name='sentence-transformers/all-mpnet-base-v2')"
      ],
      "metadata": {
        "id": "vg7krkVJQ7WT"
      },
      "execution_count": 9,
      "outputs": []
    },
    {
      "cell_type": "code",
      "source": [
        "# chroma = Chroma.from_documents(\n",
        "#     data_chunks,\n",
        "#     embeddings,\n",
        "#     persist_directory=\"/content/\"\n",
        "# )"
      ],
      "metadata": {
        "id": "52gt3QhHQ_e_"
      },
      "execution_count": 10,
      "outputs": []
    },
    {
      "cell_type": "code",
      "source": [
        "# from google.colab import drive\n",
        "# drive.mount('/content/drive')"
      ],
      "metadata": {
        "id": "yaV-yz8goAWB"
      },
      "execution_count": 11,
      "outputs": []
    },
    {
      "cell_type": "code",
      "source": [
        "# source_file = '/content/chroma.sqlite3'\n",
        "# destination_path = '/content/drive/MyDrive/'\n",
        "# !cp {source_file} {destination_path}"
      ],
      "metadata": {
        "id": "Ai5mqNb1oDHW"
      },
      "execution_count": 12,
      "outputs": []
    },
    {
      "cell_type": "code",
      "source": [
        "file_url = 'https://drive.google.com/uc?id=19ISXmlVT_sEXYcJKg9nLvtX5ujA7kwxa'\n",
        "destination_path = '/content/'\n",
        "!gdown $file_url -O $destination_path"
      ],
      "metadata": {
        "colab": {
          "base_uri": "https://localhost:8080/"
        },
        "id": "MRG90ojM9e-9",
        "outputId": "2c70c8aa-3d46-47fb-9a43-e0cfac46a48f"
      },
      "execution_count": 13,
      "outputs": [
        {
          "output_type": "stream",
          "name": "stdout",
          "text": [
            "Downloading...\n",
            "From: https://drive.google.com/uc?id=19ISXmlVT_sEXYcJKg9nLvtX5ujA7kwxa\n",
            "To: /content/chroma.sqlite3\n",
            "100% 250M/250M [00:02<00:00, 112MB/s]\n"
          ]
        }
      ]
    },
    {
      "cell_type": "code",
      "source": [
        "chroma = Chroma(persist_directory=\"/content/\", embedding_function=embeddings)"
      ],
      "metadata": {
        "id": "uqQu_CyhAS9P"
      },
      "execution_count": 14,
      "outputs": []
    },
    {
      "cell_type": "code",
      "source": [
        "retriever = chroma.as_retriever(\n",
        "    search_type=\"similarity\",\n",
        "    search_kwargs={'k': 5}\n",
        ")\n",
        "\n",
        "qa_chain = RetrievalQA.from_chain_type(\n",
        "    llm,\n",
        "    retriever=retriever,\n",
        "    chain_type_kwargs={\"prompt\": prompt}\n",
        ")"
      ],
      "metadata": {
        "id": "vu4cf-4GQ_VA"
      },
      "execution_count": 15,
      "outputs": []
    },
    {
      "cell_type": "code",
      "source": [
        "question = \"Suggest some products from Garnier\"\n",
        "response = qa_chain({\"query\": question})\n",
        "print(response['result'])"
      ],
      "metadata": {
        "id": "llA3jtXbRGv2",
        "colab": {
          "base_uri": "https://localhost:8080/"
        },
        "outputId": "53d90b08-67c9-48ff-e556-166442a49ab8"
      },
      "execution_count": 16,
      "outputs": [
        {
          "output_type": "stream",
          "name": "stdout",
          "text": [
            "1. Garnier Light Complete Lotion - This lotion is enriched with Yuzu Lemon Essence and Vitamin C to lighten dark spots and brighten skin tone while moisturizing the skin. It has UVA/UVB filters that protect the skin from harmful sun rays.\n",
            "\n",
            "2. Garnier Light Complete Sheet Mask - This sheet mask is infused with lemon and vitamin C to instantly hydrate, brighten and reduce spots\n"
          ]
        }
      ]
    },
    {
      "cell_type": "code",
      "source": [
        "!pip -q install flask-ngrok"
      ],
      "metadata": {
        "id": "P7yfGgKNP75z"
      },
      "execution_count": 17,
      "outputs": []
    },
    {
      "cell_type": "code",
      "source": [
        "from flask_ngrok import run_with_ngrok\n",
        "from flask import Flask, request, jsonify"
      ],
      "metadata": {
        "id": "Z2nol8l3P-KP"
      },
      "execution_count": 18,
      "outputs": []
    },
    {
      "cell_type": "code",
      "source": [
        "app = Flask(__name__)\n",
        "run_with_ngrok(app)\n",
        "\n",
        "@app.route('/')\n",
        "def llm_response():\n",
        "    try:\n",
        "        question = request.args.get('question', '')\n",
        "        response = qa_chain({\"query\": question})\n",
        "        print(response['result'])\n",
        "        return jsonify({'response': response['result']})\n",
        "    except Exception as e:\n",
        "        return jsonify({'error': str(e)})\n",
        "app.run()"
      ],
      "metadata": {
        "id": "QwD5lg0kXzWS",
        "colab": {
          "base_uri": "https://localhost:8080/"
        },
        "outputId": "36188438-06d6-4a71-c35c-4c4136f2e49d"
      },
      "execution_count": null,
      "outputs": [
        {
          "output_type": "stream",
          "name": "stdout",
          "text": [
            " * Serving Flask app '__main__'\n",
            " * Debug mode: off\n"
          ]
        },
        {
          "output_type": "stream",
          "name": "stderr",
          "text": [
            "INFO:werkzeug:\u001b[31m\u001b[1mWARNING: This is a development server. Do not use it in a production deployment. Use a production WSGI server instead.\u001b[0m\n",
            " * Running on http://127.0.0.1:5000\n",
            "INFO:werkzeug:\u001b[33mPress CTRL+C to quit\u001b[0m\n"
          ]
        },
        {
          "output_type": "stream",
          "name": "stdout",
          "text": [
            " * Running on http://92e9-34-124-216-252.ngrok.io\n",
            " * Traffic stats available on http://127.0.0.1:4040\n"
          ]
        },
        {
          "output_type": "stream",
          "name": "stderr",
          "text": [
            "INFO:werkzeug:127.0.0.1 - - [30/Nov/2023 13:20:48] \"GET /?question=Suggest_some_beauty_products HTTP/1.1\" 200 -\n"
          ]
        },
        {
          "output_type": "stream",
          "name": "stdout",
          "text": [
            "1. For glowing skin, try using a facial cleanser and toner every morning and evening to remove dirt and oil from the pores. Look for products that contain natural ingredients like aloe vera, chamomile or green tea extracts.\n",
            "\n",
            "2. Exfoliate your face once or twice a week with a gentle scrub to slough off dead skin cells and reveal brighter skin underneath. Use circular motions and avoid harsh scrubbing.\n",
            "\n",
            "3. Mo\n"
          ]
        },
        {
          "output_type": "stream",
          "name": "stderr",
          "text": [
            "INFO:werkzeug:127.0.0.1 - - [30/Nov/2023 13:20:49] \"\u001b[33mGET /favicon.ico HTTP/1.1\u001b[0m\" 404 -\n",
            "INFO:werkzeug:127.0.0.1 - - [30/Nov/2023 13:23:30] \"GET /?question=Suggest_some_cleaning_products HTTP/1.1\" 200 -\n"
          ]
        },
        {
          "output_type": "stream",
          "name": "stdout",
          "text": [
            "1. Colin Glass Cleaner - This product is designed to clean glass surfaces like windows, mirrors, and car windshields. It contains vinegar as the main ingredient which helps remove dirt and grime without leaving streaks or smears behind.   \n",
            "2. Colin Multi-Purpose Cleaner - This product can be used on a variety of surfaces including countertops, appliances, floors, and furniture. It has a fresh citrus scent and is safe for\n"
          ]
        },
        {
          "output_type": "stream",
          "name": "stderr",
          "text": [
            "INFO:werkzeug:127.0.0.1 - - [30/Nov/2023 13:23:31] \"\u001b[33mGET /favicon.ico HTTP/1.1\u001b[0m\" 404 -\n",
            "INFO:werkzeug:127.0.0.1 - - [30/Nov/2023 13:26:06] \"GET /?question=Suggest_something_to_eat HTTP/1.1\" 200 -\n"
          ]
        },
        {
          "output_type": "stream",
          "name": "stdout",
          "text": [
            "1. Coconut Rice-Ready to Eat   250 GRM - This pouch contains cooked basmati rice with grated coconuts, curry leaves, green chilly & salt for ready to eat.\n",
            "\n",
            "2. Ready To Eat - Navratan Kurma - Filled with carefully picked vegetables and dry fruits, a rich royal flavoured curry to delight your senses.\n",
            "\n",
            "3. Tuna Tomato Rice - Ready to E\n"
          ]
        },
        {
          "output_type": "stream",
          "name": "stderr",
          "text": [
            "INFO:werkzeug:127.0.0.1 - - [30/Nov/2023 13:26:07] \"\u001b[33mGET /favicon.ico HTTP/1.1\u001b[0m\" 404 -\n"
          ]
        }
      ]
    }
  ]
}